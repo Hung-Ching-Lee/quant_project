{
 "cells": [
  {
   "cell_type": "code",
   "execution_count": 1,
   "id": "5bbbf9dd",
   "metadata": {
    "ExecuteTime": {
     "end_time": "2021-06-21T16:02:17.151626Z",
     "start_time": "2021-06-21T16:02:13.596030Z"
    }
   },
   "outputs": [
    {
     "name": "stdout",
     "output_type": "stream",
     "text": [
      "Collecting TA-Lib\n",
      "  Downloading TA-Lib-0.4.20.tar.gz (266 kB)\n",
      "\u001b[K     |████████████████████████████████| 266 kB 1.7 MB/s eta 0:00:01\n",
      "\u001b[?25hRequirement already satisfied: numpy in /opt/homebrew/Caskroom/miniforge/base/envs/stock/lib/python3.9/site-packages (from TA-Lib) (1.20.2)\n",
      "Building wheels for collected packages: TA-Lib\n",
      "  Building wheel for TA-Lib (setup.py) ... \u001b[?25lerror\n",
      "\u001b[31m  ERROR: Command errored out with exit status 1:\n",
      "   command: /opt/homebrew/Caskroom/miniforge/base/envs/stock/bin/python3.9 -u -c 'import sys, setuptools, tokenize; sys.argv[0] = '\"'\"'/private/var/folders/ht/4yjsq_c55sq3zrbmw5nkz9lh0000gn/T/pip-install-600g5eax/ta-lib/setup.py'\"'\"'; __file__='\"'\"'/private/var/folders/ht/4yjsq_c55sq3zrbmw5nkz9lh0000gn/T/pip-install-600g5eax/ta-lib/setup.py'\"'\"';f=getattr(tokenize, '\"'\"'open'\"'\"', open)(__file__);code=f.read().replace('\"'\"'\\r\\n'\"'\"', '\"'\"'\\n'\"'\"');f.close();exec(compile(code, __file__, '\"'\"'exec'\"'\"'))' bdist_wheel -d /private/var/folders/ht/4yjsq_c55sq3zrbmw5nkz9lh0000gn/T/pip-wheel-x9ha63fz\n",
      "       cwd: /private/var/folders/ht/4yjsq_c55sq3zrbmw5nkz9lh0000gn/T/pip-install-600g5eax/ta-lib/\n",
      "  Complete output (27 lines):\n",
      "  /private/var/folders/ht/4yjsq_c55sq3zrbmw5nkz9lh0000gn/T/pip-install-600g5eax/ta-lib/setup.py:75: UserWarning: Cannot find ta-lib library, installation may fail.\n",
      "    warnings.warn('Cannot find ta-lib library, installation may fail.')\n",
      "  running bdist_wheel\n",
      "  running build\n",
      "  running build_py\n",
      "  creating build\n",
      "  creating build/lib.macosx-11.0-arm64-3.9\n",
      "  creating build/lib.macosx-11.0-arm64-3.9/talib\n",
      "  copying talib/abstract.py -> build/lib.macosx-11.0-arm64-3.9/talib\n",
      "  copying talib/test_abstract.py -> build/lib.macosx-11.0-arm64-3.9/talib\n",
      "  copying talib/deprecated.py -> build/lib.macosx-11.0-arm64-3.9/talib\n",
      "  copying talib/__init__.py -> build/lib.macosx-11.0-arm64-3.9/talib\n",
      "  copying talib/stream.py -> build/lib.macosx-11.0-arm64-3.9/talib\n",
      "  copying talib/test_pandas.py -> build/lib.macosx-11.0-arm64-3.9/talib\n",
      "  copying talib/test_data.py -> build/lib.macosx-11.0-arm64-3.9/talib\n",
      "  copying talib/test_func.py -> build/lib.macosx-11.0-arm64-3.9/talib\n",
      "  copying talib/test_stream.py -> build/lib.macosx-11.0-arm64-3.9/talib\n",
      "  running build_ext\n",
      "  building 'talib._ta_lib' extension\n",
      "  creating build/temp.macosx-11.0-arm64-3.9\n",
      "  creating build/temp.macosx-11.0-arm64-3.9/talib\n",
      "  clang -Wno-unused-result -Wsign-compare -Wunreachable-code -DNDEBUG -fwrapv -O2 -Wall -fPIC -O2 -isystem /opt/homebrew/Caskroom/miniforge/base/envs/stock/include -arch arm64 -fPIC -O2 -isystem /opt/homebrew/Caskroom/miniforge/base/envs/stock/include -arch arm64 -I/usr/include -I/usr/local/include -I/opt/include -I/opt/local/include -I/opt/homebrew/include -I/opt/homebrew/opt/ta-lib/include -I/opt/homebrew/Caskroom/miniforge/base/envs/stock/lib/python3.9/site-packages/numpy/core/include -I/opt/homebrew/Caskroom/miniforge/base/envs/stock/include/python3.9 -c talib/_ta_lib.c -o build/temp.macosx-11.0-arm64-3.9/talib/_ta_lib.o\n",
      "  talib/_ta_lib.c:613:10: fatal error: 'ta-lib/ta_defs.h' file not found\n",
      "  #include \"ta-lib/ta_defs.h\"\n",
      "           ^~~~~~~~~~~~~~~~~~\n",
      "  1 error generated.\n",
      "  error: command '/usr/bin/clang' failed with exit code 1\n",
      "  ----------------------------------------\u001b[0m\n",
      "\u001b[31m  ERROR: Failed building wheel for TA-Lib\u001b[0m\n",
      "\u001b[?25h  Running setup.py clean for TA-Lib\n",
      "Failed to build TA-Lib\n",
      "Installing collected packages: TA-Lib\n",
      "    Running setup.py install for TA-Lib ... \u001b[?25lerror\n",
      "\u001b[31m    ERROR: Command errored out with exit status 1:\n",
      "     command: /opt/homebrew/Caskroom/miniforge/base/envs/stock/bin/python3.9 -u -c 'import sys, setuptools, tokenize; sys.argv[0] = '\"'\"'/private/var/folders/ht/4yjsq_c55sq3zrbmw5nkz9lh0000gn/T/pip-install-600g5eax/ta-lib/setup.py'\"'\"'; __file__='\"'\"'/private/var/folders/ht/4yjsq_c55sq3zrbmw5nkz9lh0000gn/T/pip-install-600g5eax/ta-lib/setup.py'\"'\"';f=getattr(tokenize, '\"'\"'open'\"'\"', open)(__file__);code=f.read().replace('\"'\"'\\r\\n'\"'\"', '\"'\"'\\n'\"'\"');f.close();exec(compile(code, __file__, '\"'\"'exec'\"'\"'))' install --record /private/var/folders/ht/4yjsq_c55sq3zrbmw5nkz9lh0000gn/T/pip-record-7xu_dv6m/install-record.txt --single-version-externally-managed --compile --install-headers /opt/homebrew/Caskroom/miniforge/base/envs/stock/include/python3.9/TA-Lib\n",
      "         cwd: /private/var/folders/ht/4yjsq_c55sq3zrbmw5nkz9lh0000gn/T/pip-install-600g5eax/ta-lib/\n",
      "    Complete output (27 lines):\n",
      "    /private/var/folders/ht/4yjsq_c55sq3zrbmw5nkz9lh0000gn/T/pip-install-600g5eax/ta-lib/setup.py:75: UserWarning: Cannot find ta-lib library, installation may fail.\n",
      "      warnings.warn('Cannot find ta-lib library, installation may fail.')\n",
      "    running install\n",
      "    running build\n",
      "    running build_py\n",
      "    creating build\n",
      "    creating build/lib.macosx-11.0-arm64-3.9\n",
      "    creating build/lib.macosx-11.0-arm64-3.9/talib\n",
      "    copying talib/abstract.py -> build/lib.macosx-11.0-arm64-3.9/talib\n",
      "    copying talib/test_abstract.py -> build/lib.macosx-11.0-arm64-3.9/talib\n",
      "    copying talib/deprecated.py -> build/lib.macosx-11.0-arm64-3.9/talib\n",
      "    copying talib/__init__.py -> build/lib.macosx-11.0-arm64-3.9/talib\n",
      "    copying talib/stream.py -> build/lib.macosx-11.0-arm64-3.9/talib\n",
      "    copying talib/test_pandas.py -> build/lib.macosx-11.0-arm64-3.9/talib\n",
      "    copying talib/test_data.py -> build/lib.macosx-11.0-arm64-3.9/talib\n",
      "    copying talib/test_func.py -> build/lib.macosx-11.0-arm64-3.9/talib\n",
      "    copying talib/test_stream.py -> build/lib.macosx-11.0-arm64-3.9/talib\n",
      "    running build_ext\n",
      "    building 'talib._ta_lib' extension\n",
      "    creating build/temp.macosx-11.0-arm64-3.9\n",
      "    creating build/temp.macosx-11.0-arm64-3.9/talib\n",
      "    clang -Wno-unused-result -Wsign-compare -Wunreachable-code -DNDEBUG -fwrapv -O2 -Wall -fPIC -O2 -isystem /opt/homebrew/Caskroom/miniforge/base/envs/stock/include -arch arm64 -fPIC -O2 -isystem /opt/homebrew/Caskroom/miniforge/base/envs/stock/include -arch arm64 -I/usr/include -I/usr/local/include -I/opt/include -I/opt/local/include -I/opt/homebrew/include -I/opt/homebrew/opt/ta-lib/include -I/opt/homebrew/Caskroom/miniforge/base/envs/stock/lib/python3.9/site-packages/numpy/core/include -I/opt/homebrew/Caskroom/miniforge/base/envs/stock/include/python3.9 -c talib/_ta_lib.c -o build/temp.macosx-11.0-arm64-3.9/talib/_ta_lib.o\n",
      "    talib/_ta_lib.c:613:10: fatal error: 'ta-lib/ta_defs.h' file not found\n",
      "    #include \"ta-lib/ta_defs.h\"\n",
      "             ^~~~~~~~~~~~~~~~~~\n",
      "    1 error generated.\n",
      "    error: command '/usr/bin/clang' failed with exit code 1\n",
      "    ----------------------------------------\u001b[0m\n",
      "\u001b[31mERROR: Command errored out with exit status 1: /opt/homebrew/Caskroom/miniforge/base/envs/stock/bin/python3.9 -u -c 'import sys, setuptools, tokenize; sys.argv[0] = '\"'\"'/private/var/folders/ht/4yjsq_c55sq3zrbmw5nkz9lh0000gn/T/pip-install-600g5eax/ta-lib/setup.py'\"'\"'; __file__='\"'\"'/private/var/folders/ht/4yjsq_c55sq3zrbmw5nkz9lh0000gn/T/pip-install-600g5eax/ta-lib/setup.py'\"'\"';f=getattr(tokenize, '\"'\"'open'\"'\"', open)(__file__);code=f.read().replace('\"'\"'\\r\\n'\"'\"', '\"'\"'\\n'\"'\"');f.close();exec(compile(code, __file__, '\"'\"'exec'\"'\"'))' install --record /private/var/folders/ht/4yjsq_c55sq3zrbmw5nkz9lh0000gn/T/pip-record-7xu_dv6m/install-record.txt --single-version-externally-managed --compile --install-headers /opt/homebrew/Caskroom/miniforge/base/envs/stock/include/python3.9/TA-Lib Check the logs for full command output.\u001b[0m\n",
      "\u001b[33mWARNING: You are using pip version 20.2.4; however, version 21.1.2 is available.\n",
      "You should consider upgrading via the '/opt/homebrew/Caskroom/miniforge/base/envs/stock/bin/python3.9 -m pip install --upgrade pip' command.\u001b[0m\n",
      "\u001b[?25h"
     ]
    }
   ],
   "source": [
    "!pip install TA-Lib"
   ]
  },
  {
   "cell_type": "code",
   "execution_count": 2,
   "id": "4d781806",
   "metadata": {
    "ExecuteTime": {
     "end_time": "2021-06-22T12:43:20.937351Z",
     "start_time": "2021-06-22T12:43:20.884109Z"
    }
   },
   "outputs": [
    {
     "data": {
      "text/plain": [
       "1050.0"
      ]
     },
     "execution_count": 2,
     "metadata": {},
     "output_type": "execute_result"
    }
   ],
   "source": [
    "210000/200"
   ]
  },
  {
   "cell_type": "code",
   "execution_count": 3,
   "id": "d403926b",
   "metadata": {
    "ExecuteTime": {
     "end_time": "2021-06-25T10:18:39.639315Z",
     "start_time": "2021-06-25T10:18:39.553030Z"
    }
   },
   "outputs": [
    {
     "data": {
      "text/plain": [
       "12209"
      ]
     },
     "execution_count": 3,
     "metadata": {},
     "output_type": "execute_result"
    }
   ],
   "source": [
    "2393+9816"
   ]
  },
  {
   "cell_type": "code",
   "execution_count": null,
   "id": "5b99b781",
   "metadata": {},
   "outputs": [],
   "source": []
  }
 ],
 "metadata": {
  "kernelspec": {
   "display_name": "stock_dl",
   "language": "python",
   "name": "stock_dl"
  },
  "language_info": {
   "codemirror_mode": {
    "name": "ipython",
    "version": 3
   },
   "file_extension": ".py",
   "mimetype": "text/x-python",
   "name": "python",
   "nbconvert_exporter": "python",
   "pygments_lexer": "ipython3",
   "version": "3.8.10"
  },
  "latex_envs": {
   "LaTeX_envs_menu_present": true,
   "autoclose": false,
   "autocomplete": true,
   "bibliofile": "biblio.bib",
   "cite_by": "apalike",
   "current_citInitial": 1,
   "eqLabelWithNumbers": true,
   "eqNumInitial": 1,
   "hotkeys": {
    "equation": "Ctrl-E",
    "itemize": "Ctrl-I"
   },
   "labels_anchors": false,
   "latex_user_defs": false,
   "report_style_numbering": false,
   "user_envs_cfg": false
  },
  "toc": {
   "base_numbering": 1,
   "nav_menu": {},
   "number_sections": true,
   "sideBar": true,
   "skip_h1_title": false,
   "title_cell": "Table of Contents",
   "title_sidebar": "Contents",
   "toc_cell": false,
   "toc_position": {},
   "toc_section_display": true,
   "toc_window_display": false
  }
 },
 "nbformat": 4,
 "nbformat_minor": 5
}
