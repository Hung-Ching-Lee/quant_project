{
 "cells": [
  {
   "cell_type": "code",
   "execution_count": 1,
   "id": "109ff53c",
   "metadata": {
    "ExecuteTime": {
     "end_time": "2021-06-18T16:14:13.356371Z",
     "start_time": "2021-06-18T16:14:13.265707Z"
    }
   },
   "outputs": [
    {
     "ename": "ModuleNotFoundError",
     "evalue": "No module named 'quantlib'",
     "output_type": "error",
     "traceback": [
      "\u001b[0;31m---------------------------------------------------------------------------\u001b[0m",
      "\u001b[0;31mModuleNotFoundError\u001b[0m                       Traceback (most recent call last)",
      "\u001b[0;32m<ipython-input-1-66bf90de060e>\u001b[0m in \u001b[0;36m<module>\u001b[0;34m\u001b[0m\n\u001b[0;32m----> 1\u001b[0;31m \u001b[0;32mimport\u001b[0m \u001b[0mquantlib\u001b[0m\u001b[0;34m\u001b[0m\u001b[0;34m\u001b[0m\u001b[0m\n\u001b[0m",
      "\u001b[0;31mModuleNotFoundError\u001b[0m: No module named 'quantlib'"
     ]
    }
   ],
   "source": [
    "import quantlib"
   ]
  },
  {
   "cell_type": "code",
   "execution_count": 4,
   "id": "606e4354",
   "metadata": {
    "ExecuteTime": {
     "end_time": "2021-06-18T16:10:44.079306Z",
     "start_time": "2021-06-18T16:08:42.155775Z"
    },
    "scrolled": false
   },
   "outputs": [
    {
     "name": "stdout",
     "output_type": "stream",
     "text": [
      "Updating Homebrew...\n",
      "\u001b[34m==>\u001b[0m \u001b[1mAuto-updated Homebrew!\u001b[0m\n",
      "Updated 3 taps (homebrew/core, homebrew/cask and homebrew/cask-fonts).\n",
      "\u001b[34m==>\u001b[0m \u001b[1mNew Formulae\u001b[0m\n",
      "archey4             gitbackup           maturin             range2cidr\n",
      "argocd-autopilot    gitwatch            moar                revive\n",
      "at-spi2-atk         gnupg@2.2           mongocli            rmw\n",
      "at-spi2-core        gpg-tui             mongosh             rpg-cli\n",
      "atuin               gradle@6            mr2                 scotch\n",
      "autoconf@2.69       grepip              neovim-remote       search-that-hash\n",
      "autorestic          gtksourceview5      nomino              seqkit\n",
      "avahi               himalaya            nox                 simde\n",
      "bgpq4               imath               oksh                slides\n",
      "cadical             ipinfo-cli          openexr@2           sqlbench\n",
      "caire               julia               openj9              sqlx-cli\n",
      "cidr2range          ki                  opensearch          storj-uplink\n",
      "clazy               lefthook            osinfo-db           stp\n",
      "code-minimap        libmobi             osinfo-db-tools     sysstat\n",
      "csvtk               llvm@11             parquet-cli         tbb@2020\n",
      "ddcctl              lm-sensors          pgxnclient          tmuxp\n",
      "dory                lsix                php-cs-fixer@2      trojan-go\n",
      "ehco                lychee              principalmapper     tssh\n",
      "elan-init           macchina            proj@7              universal-ctags\n",
      "elfutils            marcli              px                  virtualenvwrapper\n",
      "erlang@23           marp-cli            pywhat              webhook\n",
      "fabric-installer    mathlibtools        qodem               xfig\n",
      "gcc@10              matterbridge        qthreads            zellij\n",
      "\u001b[34m==>\u001b[0m \u001b[1mUpdated Formulae\u001b[0m\n",
      "Updated 2092 formulae.\n",
      "\u001b[34m==>\u001b[0m \u001b[1mRenamed Formulae\u001b[0m\n",
      "badtouch -> authoscope                   grakn -> typedb\n",
      "\u001b[34m==>\u001b[0m \u001b[1mDeleted Formulae\u001b[0m\n",
      "aurora-cli      erlang@20       osquery         protobuf-swift  protobuf@3.7\n",
      "\u001b[34m==>\u001b[0m \u001b[1mNew Casks\u001b[0m\n",
      "adobe-dng-converter                      instatus-out\n",
      "android-commandlinetools                 invoker\n",
      "arkiwi                                   irpf2021\n",
      "assinador-serpro                         isyncer\n",
      "beeper                                   jamkazam\n",
      "blobsaver                                jellyfin-media-player\n",
      "calmly-writer                            jgrennison-openttd\n",
      "chia                                     jidusm\n",
      "classroom-mode-for-minecraft             kubenav\n",
      "crescendo                                landrop\n",
      "cryptonomic-galleon                      librewolf\n",
      "depthmapx                                lightwright\n",
      "devkinsta                                macstroke\n",
      "dmidiplayer                              mambaforge\n",
      "enclave                                  mem\n",
      "firefly                                  menu-bar-splitter\n",
      "flameshot                                menuwhere\n",
      "flomo                                    microsoft-openjdk\n",
      "font-andada-pro                          mixed-in-key\n",
      "font-azeret-mono                         mutesync\n",
      "font-bona-nova                           optimus-player\n",
      "font-festive                             p4\n",
      "font-fuggles                             polkadot-js\n",
      "font-gowun-batang                        prisma-studio\n",
      "font-gowun-dodum                         privileges\n",
      "font-hahmlet                             pronterface\n",
      "font-hina-mincho                         qudedup-extract-tool\n",
      "font-iosevka-ss18                        recut\n",
      "font-montecarlo                          safe-multisig\n",
      "font-otomanopee-one                      sbarex-qlmarkdown\n",
      "font-palette-mosaic                      shield\n",
      "font-qahiri                              shortcutor\n",
      "font-red-hat-mono                        siyuan\n",
      "font-scheherazade-new                    slidepilot\n",
      "font-shippori-antique                    sparrow\n",
      "font-shippori-antique-b1                 specter\n",
      "font-stix-two-math                       suuntodm5\n",
      "font-stix-two-text                       tabtopus\n",
      "font-style-script                        tint\n",
      "font-tourney                             unexpectedly\n",
      "font-windsong                            universal-battle\n",
      "font-yomogi                              usbimager\n",
      "font-zen-tokyo-zoo                       usr-sse2-rdm\n",
      "fpc-laz                                  vamiga\n",
      "fpc-src-laz                              vitals\n",
      "futurerestore-gui                        vitalsigns\n",
      "hancom-word                              waltr-pro\n",
      "hightop                                  wolfram-player\n",
      "hook                                     yippy\n",
      "ilspy\n",
      "\u001b[34m==>\u001b[0m \u001b[1mUpdated Casks\u001b[0m\n",
      "Updated 1417 casks.\n",
      "\u001b[34m==>\u001b[0m \u001b[1mDeleted Casks\u001b[0m\n",
      "adventure                                hubic\n",
      "adware-removal-tool                      iograph\n",
      "appstudio                                itrash\n",
      "audiobookbinder                          lingo\n",
      "auristor-client                          mapillary-uploader\n",
      "beoplay-software-update                  meshcommander\n",
      "cellery                                  netbeans-cpp\n",
      "clipbuddy                                netbeans-java-ee\n",
      "cliqz                                    netbeans-java-se\n",
      "cricut-design-space                      netbeans-php\n",
      "crypt                                    nndd\n",
      "cuteclips                                omniweb\n",
      "duckstation                              opennx\n",
      "family-tree-builder                      opera-mail\n",
      "filedrop                                 printrun\n",
      "font-source-han-code-jp                  resxtreme\n",
      "font-source-han-mono                     revisions\n",
      "font-source-han-noto-cjk                 rss\n",
      "font-source-han-sans                     shoes\n",
      "font-source-han-sans-hw-vf               spideroak-share\n",
      "font-source-han-sans-vf                  swift-explorer\n",
      "font-source-han-serif                    todos\n",
      "font-source-han-serif-el-m               touch-bar-pong\n",
      "font-source-han-serif-sb-h               tracks-live\n",
      "font-source-serif                        transmit-disk\n",
      "foreman                                  vrep\n",
      "fpcsrc                                   wakeonlan\n",
      "gitbox                                   wraparound\n",
      "hex\n",
      "\n",
      "\u001b[34m==>\u001b[0m \u001b[1mDownloading https://ghcr.io/v2/homebrew/core/icu4c/manifests/69.1\u001b[0m\n",
      "######################################################################## 100.0%\n",
      "\u001b[34m==>\u001b[0m \u001b[1mDownloading https://ghcr.io/v2/homebrew/core/icu4c/blobs/sha256:25a1ec460d42\u001b[0m\n",
      "\u001b[34m==>\u001b[0m \u001b[1mDownloading from https://pkg-containers.githubusercontent.com/ghcr1/blobs/sh\u001b[0m\n",
      "######################################################################## 100.0%\n",
      "\u001b[34m==>\u001b[0m \u001b[1mDownloading https://ghcr.io/v2/homebrew/core/boost/manifests/1.76.0\u001b[0m\n",
      "######################################################################## 100.0%\n",
      "\u001b[34m==>\u001b[0m \u001b[1mDownloading https://ghcr.io/v2/homebrew/core/boost/blobs/sha256:3a336c8b1a91\u001b[0m\n",
      "\u001b[34m==>\u001b[0m \u001b[1mDownloading from https://pkg-containers.githubusercontent.com/ghcr1/blobs/sh\u001b[0m\n",
      "######################################################################## 100.0%\n",
      "\u001b[34m==>\u001b[0m \u001b[1mDownloading https://ghcr.io/v2/homebrew/core/quantlib/manifests/1.22\u001b[0m\n",
      "######################################################################## 100.0%\n",
      "\u001b[34m==>\u001b[0m \u001b[1mDownloading https://ghcr.io/v2/homebrew/core/quantlib/blobs/sha256:214a9ab69\u001b[0m\n",
      "\u001b[34m==>\u001b[0m \u001b[1mDownloading from https://pkg-containers.githubusercontent.com/ghcr1/blobs/sh\u001b[0m\n",
      "######################################################################## 100.0%\n",
      "\u001b[32m==>\u001b[0m \u001b[1mInstalling dependencies for quantlib: \u001b[32micu4c\u001b[39m and \u001b[32mboost\u001b[39m\u001b[0m\n",
      "\u001b[32m==>\u001b[0m \u001b[1mInstalling quantlib dependency: \u001b[32micu4c\u001b[39m\u001b[0m\n",
      "\u001b[34m==>\u001b[0m \u001b[1mPouring icu4c--69.1.arm64_big_sur.bottle.tar.gz\u001b[0m\n",
      "🍺  /opt/homebrew/Cellar/icu4c/69.1: 259 files, 73.3MB\n",
      "\u001b[32m==>\u001b[0m \u001b[1mInstalling quantlib dependency: \u001b[32mboost\u001b[39m\u001b[0m\n",
      "\u001b[34m==>\u001b[0m \u001b[1mPouring boost--1.76.0.arm64_big_sur.bottle.tar.gz\u001b[0m\n",
      "🍺  /opt/homebrew/Cellar/boost/1.76.0: 15,150 files, 496.9MB\n",
      "\u001b[32m==>\u001b[0m \u001b[1mInstalling \u001b[32mquantlib\u001b[39m\u001b[0m\n",
      "\u001b[34m==>\u001b[0m \u001b[1mPouring quantlib--1.22.arm64_big_sur.bottle.tar.gz\u001b[0m\n",
      "🍺  /opt/homebrew/Cellar/quantlib/1.22: 1,382 files, 137MB\n",
      "\u001b[34m==>\u001b[0m \u001b[1m`brew cleanup` has not been run in 30 days, running now...\u001b[0m\n"
     ]
    },
    {
     "name": "stdout",
     "output_type": "stream",
     "text": [
      "Removing: /Users/sb0487/Library/Caches/Homebrew/libidn2--2.3.0.arm64_big_sur.bottle.tar.gz... (243.0KB)\n",
      "Removing: /opt/homebrew/Cellar/openssl@1.1/1.1.1j... (8,071 files, 18MB)\n",
      "Removing: /Users/sb0487/Library/Caches/Homebrew/openssl@1.1--1.1.1j.arm64_big_sur.bottle.1.tar.gz... (5.2MB)\n",
      "Removing: /Users/sb0487/Library/Caches/Homebrew/python@3.8--3.8.9.arm64_big_sur.bottle.tar.gz... (17.1MB)\n",
      "Removing: /Users/sb0487/Library/Caches/Homebrew/python@3.9--3.9.4.arm64_big_sur.bottle.tar.gz... (13.6MB)\n",
      "Removing: /Users/sb0487/Library/Caches/Homebrew/sqlite--3.35.4.arm64_big_sur.bottle.tar.gz... (1.9MB)\n",
      "Removing: /Users/sb0487/Library/Caches/Homebrew/sqlite--3.35.2.arm64_big_sur.bottle.tar.gz... (1.9MB)\n",
      "Removing: /Users/sb0487/Library/Caches/Homebrew/Cask/iterm2--3.4.4.zip... (22MB)\n",
      "Removing: /Users/sb0487/Library/Caches/Homebrew/Cask/miniforge--4.9.2-7.sh... (37.9MB)\n",
      "Removing: /Users/sb0487/Library/Logs/Homebrew/tree... (64B)\n",
      "Removing: /Users/sb0487/Library/Logs/Homebrew/wget... (64B)\n",
      "Removing: /Users/sb0487/Library/Logs/Homebrew/libidn2... (64B)\n",
      "Removing: /Users/sb0487/Library/Logs/Homebrew/ncurses... (64B)\n",
      "Removing: /Users/sb0487/Library/Logs/Homebrew/gdbm... (64B)\n",
      "Removing: /Users/sb0487/Library/Logs/Homebrew/mpdecimal... (64B)\n",
      "Removing: /Users/sb0487/Library/Logs/Homebrew/smartmontools... (64B)\n",
      "Removing: /Users/sb0487/Library/Logs/Homebrew/libunistring... (64B)\n",
      "Removing: /Users/sb0487/Library/Logs/Homebrew/apr-util... (64B)\n",
      "Removing: /Users/sb0487/Library/Logs/Homebrew/readline... (64B)\n",
      "Removing: /Users/sb0487/Library/Logs/Homebrew/utf8proc... (64B)\n",
      "Removing: /Users/sb0487/Library/Logs/Homebrew/lz4... (64B)\n",
      "Removing: /Users/sb0487/Library/Logs/Homebrew/sqlite... (64B)\n",
      "Removing: /Users/sb0487/Library/Logs/Homebrew/xz... (64B)\n",
      "Removing: /Users/sb0487/Library/Logs/Homebrew/htop... (64B)\n",
      "Removing: /Users/sb0487/Library/Logs/Homebrew/gettext... (64B)\n",
      "Removing: /Users/sb0487/Library/Logs/Homebrew/tcl-tk... (64B)\n",
      "Removing: /Users/sb0487/Library/Logs/Homebrew/apr... (64B)\n",
      "Removing: /Users/sb0487/Library/Logs/Homebrew/openssl@1.1... (64B)\n",
      "Removing: /Users/sb0487/Library/Logs/Homebrew/python@3.8... (3 files, 182.3KB)\n",
      "Removing: /Users/sb0487/Library/Logs/Homebrew/subversion... (64B)\n",
      "Removing: /Users/sb0487/Library/Logs/Homebrew/python@3.9... (4 files, 892.7KB)\n",
      "Pruned 0 symbolic links and 3 directories from /opt/homebrew\n"
     ]
    }
   ],
   "source": [
    "!brew install quantlib"
   ]
  },
  {
   "cell_type": "code",
   "execution_count": 6,
   "id": "96c59645",
   "metadata": {
    "ExecuteTime": {
     "end_time": "2021-06-18T16:11:51.780386Z",
     "start_time": "2021-06-18T16:11:50.882193Z"
    }
   },
   "outputs": [
    {
     "name": "stdout",
     "output_type": "stream",
     "text": [
      "\u001b[33mWarning:\u001b[0m boost 1.76.0 is already installed and up-to-date.\r\n",
      "To reinstall 1.76.0, run:\r\n",
      "  brew reinstall boost\r\n"
     ]
    }
   ],
   "source": [
    "!brew install boost"
   ]
  },
  {
   "cell_type": "code",
   "execution_count": null,
   "id": "2f054d81",
   "metadata": {},
   "outputs": [],
   "source": []
  }
 ],
 "metadata": {
  "kernelspec": {
   "display_name": "stock_dl",
   "language": "python",
   "name": "stock_dl"
  },
  "language_info": {
   "codemirror_mode": {
    "name": "ipython",
    "version": 3
   },
   "file_extension": ".py",
   "mimetype": "text/x-python",
   "name": "python",
   "nbconvert_exporter": "python",
   "pygments_lexer": "ipython3",
   "version": "3.8.10"
  },
  "latex_envs": {
   "LaTeX_envs_menu_present": true,
   "autoclose": false,
   "autocomplete": true,
   "bibliofile": "biblio.bib",
   "cite_by": "apalike",
   "current_citInitial": 1,
   "eqLabelWithNumbers": true,
   "eqNumInitial": 1,
   "hotkeys": {
    "equation": "Ctrl-E",
    "itemize": "Ctrl-I"
   },
   "labels_anchors": false,
   "latex_user_defs": false,
   "report_style_numbering": false,
   "user_envs_cfg": false
  },
  "toc": {
   "base_numbering": 1,
   "nav_menu": {},
   "number_sections": true,
   "sideBar": true,
   "skip_h1_title": false,
   "title_cell": "Table of Contents",
   "title_sidebar": "Contents",
   "toc_cell": false,
   "toc_position": {},
   "toc_section_display": true,
   "toc_window_display": false
  }
 },
 "nbformat": 4,
 "nbformat_minor": 5
}
